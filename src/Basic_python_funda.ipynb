{
 "cells": [
  {
   "cell_type": "code",
   "execution_count": 1,
   "metadata": {},
   "outputs": [
    {
     "data": {
      "text/plain": [
       "False"
      ]
     },
     "execution_count": 1,
     "metadata": {},
     "output_type": "execute_result"
    }
   ],
   "source": [
    "def is_prime(x):\n",
    "        for i in (2,x-1):\n",
    "            if i%2==0:\n",
    "                return False\n",
    "        return True\n",
    "    \n",
    "is_prime(2)"
   ]
  },
  {
   "cell_type": "code",
   "execution_count": 7,
   "metadata": {},
   "outputs": [
    {
     "name": "stdout",
     "output_type": "stream",
     "text": [
      "Account 10001,amount 100\n"
     ]
    }
   ],
   "source": [
    "class BankAccount:\n",
    "    \n",
    "    version=1.0 # Statuc Variable\n",
    "    \n",
    "    def __init__(self,account,amount):\n",
    "        self.account=account\n",
    "        self.amount=amount\n",
    "        \n",
    "    def withdraw(self, amount):\n",
    "        self.amount=self.amount-amount\n",
    "        \n",
    "    def deposit(self, amount):\n",
    "        self.amount=self.amount+amount\n",
    "        \n",
    "    def __repr__(self):\n",
    "        return \"Account %s,amount %d\" % (self.account,self.amount)\n",
    "        \n",
    "        \n",
    "\n",
    "        \n",
    "account1=BankAccount(\"10001\",100.2) \n",
    "print(account1)"
   ]
  },
  {
   "cell_type": "code",
   "execution_count": null,
   "metadata": {},
   "outputs": [],
   "source": []
  }
 ],
 "metadata": {
  "kernelspec": {
   "display_name": "Python 3",
   "language": "python",
   "name": "python3"
  },
  "language_info": {
   "codemirror_mode": {
    "name": "ipython",
    "version": 3
   },
   "file_extension": ".py",
   "mimetype": "text/x-python",
   "name": "python",
   "nbconvert_exporter": "python",
   "pygments_lexer": "ipython3",
   "version": "3.6.6"
  }
 },
 "nbformat": 4,
 "nbformat_minor": 2
}
